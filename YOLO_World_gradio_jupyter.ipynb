{
  "cells": [
    {
      "cell_type": "markdown",
      "metadata": {
        "id": "view-in-github"
      },
      "source": [
        "[![Open In Colab](https://colab.research.google.com/assets/colab-badge.svg)](https://colab.research.google.com/github/camenduru/YOLO-World-jupyter/blob/main/YOLO_World_gradio_jupyter.ipynb)"
      ]
    },
    {
      "cell_type": "code",
      "execution_count": null,
      "metadata": {
        "id": "VjYy0F2gZIPR"
      },
      "outputs": [],
      "source": [
        "%cd /content\n",
        "!git clone -b dev https://github.com/camenduru/YOLO-World-hf\n",
        "%cd /content/YOLO-World-hf\n",
        "\n",
        "!apt -y install -qq aria2\n",
        "!aria2c --console-log-level=error -c -x 16 -s 16 -k 1M  https://huggingface.co/spaces/stevengrove/YOLO-World/resolve/main/yolow-v8_l_clipv2_frozen_t2iv2_bn_o365_goldg_pretrain.pth -d /content/YOLO-World-hf -o yolow-v8_l_clipv2_frozen_t2iv2_bn_o365_goldg_pretrain.pth\n",
        "\n",
        "!pip install -q gradio==4.16.0 mmengine==0.7.4 mmdet==3.1.0 yapf==0.40.1 mmyolo onnx onnxsim\n",
        "!pip install https://github.com/camenduru/wheels/releases/download/colab/mmcv-2.0.1-cp310-cp310-linux_x86_64.whl\n",
        "!pip install -q -v -e .\n",
        "\n",
        "!python app.py"
      ]
    }
  ],
  "metadata": {
    "accelerator": "GPU",
    "colab": {
      "gpuType": "T4",
      "provenance": []
    },
    "kernelspec": {
      "display_name": "Python 3",
      "name": "python3"
    },
    "language_info": {
      "name": "python"
    }
  },
  "nbformat": 4,
  "nbformat_minor": 0
}
